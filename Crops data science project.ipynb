{
 "cells": [
  {
   "cell_type": "code",
   "execution_count": 1,
   "id": "9e483c19",
   "metadata": {},
   "outputs": [],
   "source": [
    "import pandas as pd\n",
    "# for read csv file or  dataframe\n",
    "import numpy as np\n",
    "import matplotlib.pyplot as plt\n",
    "import seaborn as sns\n"
   ]
  },
  {
   "cell_type": "code",
   "execution_count": 2,
   "id": "48dff926",
   "metadata": {},
   "outputs": [],
   "source": [
    "df=pd.read_csv(\"Crop.csv\")"
   ]
  },
  {
   "cell_type": "code",
   "execution_count": 3,
   "id": "ae6d323d",
   "metadata": {
    "scrolled": true
   },
   "outputs": [
    {
     "data": {
      "text/html": [
       "<div>\n",
       "<style scoped>\n",
       "    .dataframe tbody tr th:only-of-type {\n",
       "        vertical-align: middle;\n",
       "    }\n",
       "\n",
       "    .dataframe tbody tr th {\n",
       "        vertical-align: top;\n",
       "    }\n",
       "\n",
       "    .dataframe thead th {\n",
       "        text-align: right;\n",
       "    }\n",
       "</style>\n",
       "<table border=\"1\" class=\"dataframe\">\n",
       "  <thead>\n",
       "    <tr style=\"text-align: right;\">\n",
       "      <th></th>\n",
       "      <th>N</th>\n",
       "      <th>P</th>\n",
       "      <th>K</th>\n",
       "      <th>temperature</th>\n",
       "      <th>humidity</th>\n",
       "      <th>ph</th>\n",
       "      <th>rainfall</th>\n",
       "      <th>label</th>\n",
       "    </tr>\n",
       "  </thead>\n",
       "  <tbody>\n",
       "    <tr>\n",
       "      <th>0</th>\n",
       "      <td>90</td>\n",
       "      <td>42</td>\n",
       "      <td>43</td>\n",
       "      <td>20.879744</td>\n",
       "      <td>82.002744</td>\n",
       "      <td>6.502985</td>\n",
       "      <td>202.935536</td>\n",
       "      <td>rice</td>\n",
       "    </tr>\n",
       "    <tr>\n",
       "      <th>1</th>\n",
       "      <td>85</td>\n",
       "      <td>58</td>\n",
       "      <td>41</td>\n",
       "      <td>21.770462</td>\n",
       "      <td>80.319644</td>\n",
       "      <td>7.038096</td>\n",
       "      <td>226.655537</td>\n",
       "      <td>rice</td>\n",
       "    </tr>\n",
       "    <tr>\n",
       "      <th>2</th>\n",
       "      <td>60</td>\n",
       "      <td>55</td>\n",
       "      <td>44</td>\n",
       "      <td>23.004459</td>\n",
       "      <td>82.320763</td>\n",
       "      <td>7.840207</td>\n",
       "      <td>263.964248</td>\n",
       "      <td>rice</td>\n",
       "    </tr>\n",
       "    <tr>\n",
       "      <th>3</th>\n",
       "      <td>74</td>\n",
       "      <td>35</td>\n",
       "      <td>40</td>\n",
       "      <td>26.491096</td>\n",
       "      <td>80.158363</td>\n",
       "      <td>6.980401</td>\n",
       "      <td>242.864034</td>\n",
       "      <td>rice</td>\n",
       "    </tr>\n",
       "    <tr>\n",
       "      <th>4</th>\n",
       "      <td>78</td>\n",
       "      <td>42</td>\n",
       "      <td>42</td>\n",
       "      <td>20.130175</td>\n",
       "      <td>81.604873</td>\n",
       "      <td>7.628473</td>\n",
       "      <td>262.717340</td>\n",
       "      <td>rice</td>\n",
       "    </tr>\n",
       "  </tbody>\n",
       "</table>\n",
       "</div>"
      ],
      "text/plain": [
       "    N   P   K  temperature   humidity        ph    rainfall label\n",
       "0  90  42  43    20.879744  82.002744  6.502985  202.935536  rice\n",
       "1  85  58  41    21.770462  80.319644  7.038096  226.655537  rice\n",
       "2  60  55  44    23.004459  82.320763  7.840207  263.964248  rice\n",
       "3  74  35  40    26.491096  80.158363  6.980401  242.864034  rice\n",
       "4  78  42  42    20.130175  81.604873  7.628473  262.717340  rice"
      ]
     },
     "execution_count": 3,
     "metadata": {},
     "output_type": "execute_result"
    }
   ],
   "source": [
    "df.head()"
   ]
  },
  {
   "cell_type": "code",
   "execution_count": 4,
   "id": "c56160a8",
   "metadata": {},
   "outputs": [
    {
     "data": {
      "text/plain": [
       "rice           100\n",
       "maize          100\n",
       "jute           100\n",
       "cotton         100\n",
       "coconut        100\n",
       "papaya         100\n",
       "orange         100\n",
       "apple          100\n",
       "muskmelon      100\n",
       "watermelon     100\n",
       "grapes         100\n",
       "mango          100\n",
       "banana         100\n",
       "pomegranate    100\n",
       "lentil         100\n",
       "blackgram      100\n",
       "mungbean       100\n",
       "mothbeans      100\n",
       "pigeonpeas     100\n",
       "kidneybeans    100\n",
       "chickpea       100\n",
       "coffee         100\n",
       "Name: label, dtype: int64"
      ]
     },
     "execution_count": 4,
     "metadata": {},
     "output_type": "execute_result"
    }
   ],
   "source": [
    "df['label'].value_counts()"
   ]
  },
  {
   "cell_type": "code",
   "execution_count": 5,
   "id": "ea002b24",
   "metadata": {},
   "outputs": [
    {
     "data": {
      "text/plain": [
       "(2200, 8)"
      ]
     },
     "execution_count": 5,
     "metadata": {},
     "output_type": "execute_result"
    }
   ],
   "source": [
    "df.shape"
   ]
  },
  {
   "cell_type": "code",
   "execution_count": 6,
   "id": "e42fd5ab",
   "metadata": {},
   "outputs": [
    {
     "data": {
      "text/plain": [
       "N              2200\n",
       "P              2200\n",
       "K              2200\n",
       "temperature    2200\n",
       "humidity       2200\n",
       "ph             2200\n",
       "rainfall       2200\n",
       "label          2200\n",
       "dtype: int64"
      ]
     },
     "execution_count": 6,
     "metadata": {},
     "output_type": "execute_result"
    }
   ],
   "source": [
    "df.count()"
   ]
  },
  {
   "cell_type": "code",
   "execution_count": 7,
   "id": "0ce1e65d",
   "metadata": {},
   "outputs": [
    {
     "data": {
      "text/html": [
       "<div>\n",
       "<style scoped>\n",
       "    .dataframe tbody tr th:only-of-type {\n",
       "        vertical-align: middle;\n",
       "    }\n",
       "\n",
       "    .dataframe tbody tr th {\n",
       "        vertical-align: top;\n",
       "    }\n",
       "\n",
       "    .dataframe thead th {\n",
       "        text-align: right;\n",
       "    }\n",
       "</style>\n",
       "<table border=\"1\" class=\"dataframe\">\n",
       "  <thead>\n",
       "    <tr style=\"text-align: right;\">\n",
       "      <th></th>\n",
       "      <th>N</th>\n",
       "      <th>P</th>\n",
       "      <th>K</th>\n",
       "      <th>temperature</th>\n",
       "      <th>humidity</th>\n",
       "      <th>ph</th>\n",
       "      <th>rainfall</th>\n",
       "    </tr>\n",
       "  </thead>\n",
       "  <tbody>\n",
       "    <tr>\n",
       "      <th>count</th>\n",
       "      <td>2200.000000</td>\n",
       "      <td>2200.000000</td>\n",
       "      <td>2200.000000</td>\n",
       "      <td>2200.000000</td>\n",
       "      <td>2200.000000</td>\n",
       "      <td>2200.000000</td>\n",
       "      <td>2200.000000</td>\n",
       "    </tr>\n",
       "    <tr>\n",
       "      <th>mean</th>\n",
       "      <td>50.551818</td>\n",
       "      <td>53.362727</td>\n",
       "      <td>48.149091</td>\n",
       "      <td>25.616244</td>\n",
       "      <td>71.481779</td>\n",
       "      <td>6.469480</td>\n",
       "      <td>103.463655</td>\n",
       "    </tr>\n",
       "    <tr>\n",
       "      <th>std</th>\n",
       "      <td>36.917334</td>\n",
       "      <td>32.985883</td>\n",
       "      <td>50.647931</td>\n",
       "      <td>5.063749</td>\n",
       "      <td>22.263812</td>\n",
       "      <td>0.773938</td>\n",
       "      <td>54.958389</td>\n",
       "    </tr>\n",
       "    <tr>\n",
       "      <th>min</th>\n",
       "      <td>0.000000</td>\n",
       "      <td>5.000000</td>\n",
       "      <td>5.000000</td>\n",
       "      <td>8.825675</td>\n",
       "      <td>14.258040</td>\n",
       "      <td>3.504752</td>\n",
       "      <td>20.211267</td>\n",
       "    </tr>\n",
       "    <tr>\n",
       "      <th>25%</th>\n",
       "      <td>21.000000</td>\n",
       "      <td>28.000000</td>\n",
       "      <td>20.000000</td>\n",
       "      <td>22.769375</td>\n",
       "      <td>60.261953</td>\n",
       "      <td>5.971693</td>\n",
       "      <td>64.551686</td>\n",
       "    </tr>\n",
       "    <tr>\n",
       "      <th>50%</th>\n",
       "      <td>37.000000</td>\n",
       "      <td>51.000000</td>\n",
       "      <td>32.000000</td>\n",
       "      <td>25.598693</td>\n",
       "      <td>80.473146</td>\n",
       "      <td>6.425045</td>\n",
       "      <td>94.867624</td>\n",
       "    </tr>\n",
       "    <tr>\n",
       "      <th>75%</th>\n",
       "      <td>84.250000</td>\n",
       "      <td>68.000000</td>\n",
       "      <td>49.000000</td>\n",
       "      <td>28.561654</td>\n",
       "      <td>89.948771</td>\n",
       "      <td>6.923643</td>\n",
       "      <td>124.267508</td>\n",
       "    </tr>\n",
       "    <tr>\n",
       "      <th>max</th>\n",
       "      <td>140.000000</td>\n",
       "      <td>145.000000</td>\n",
       "      <td>205.000000</td>\n",
       "      <td>43.675493</td>\n",
       "      <td>99.981876</td>\n",
       "      <td>9.935091</td>\n",
       "      <td>298.560117</td>\n",
       "    </tr>\n",
       "  </tbody>\n",
       "</table>\n",
       "</div>"
      ],
      "text/plain": [
       "                 N            P            K  temperature     humidity  \\\n",
       "count  2200.000000  2200.000000  2200.000000  2200.000000  2200.000000   \n",
       "mean     50.551818    53.362727    48.149091    25.616244    71.481779   \n",
       "std      36.917334    32.985883    50.647931     5.063749    22.263812   \n",
       "min       0.000000     5.000000     5.000000     8.825675    14.258040   \n",
       "25%      21.000000    28.000000    20.000000    22.769375    60.261953   \n",
       "50%      37.000000    51.000000    32.000000    25.598693    80.473146   \n",
       "75%      84.250000    68.000000    49.000000    28.561654    89.948771   \n",
       "max     140.000000   145.000000   205.000000    43.675493    99.981876   \n",
       "\n",
       "                ph     rainfall  \n",
       "count  2200.000000  2200.000000  \n",
       "mean      6.469480   103.463655  \n",
       "std       0.773938    54.958389  \n",
       "min       3.504752    20.211267  \n",
       "25%       5.971693    64.551686  \n",
       "50%       6.425045    94.867624  \n",
       "75%       6.923643   124.267508  \n",
       "max       9.935091   298.560117  "
      ]
     },
     "execution_count": 7,
     "metadata": {},
     "output_type": "execute_result"
    }
   ],
   "source": [
    "df.describe()"
   ]
  },
  {
   "cell_type": "code",
   "execution_count": 8,
   "id": "733862b7",
   "metadata": {},
   "outputs": [
    {
     "data": {
      "text/plain": [
       "Index(['N', 'P', 'K', 'temperature', 'humidity', 'ph', 'rainfall', 'label'], dtype='object')"
      ]
     },
     "execution_count": 8,
     "metadata": {},
     "output_type": "execute_result"
    }
   ],
   "source": [
    "df.columns"
   ]
  },
  {
   "cell_type": "code",
   "execution_count": 9,
   "id": "7102d5a3",
   "metadata": {},
   "outputs": [
    {
     "data": {
      "text/html": [
       "<div>\n",
       "<style scoped>\n",
       "    .dataframe tbody tr th:only-of-type {\n",
       "        vertical-align: middle;\n",
       "    }\n",
       "\n",
       "    .dataframe tbody tr th {\n",
       "        vertical-align: top;\n",
       "    }\n",
       "\n",
       "    .dataframe thead th {\n",
       "        text-align: right;\n",
       "    }\n",
       "</style>\n",
       "<table border=\"1\" class=\"dataframe\">\n",
       "  <thead>\n",
       "    <tr style=\"text-align: right;\">\n",
       "      <th></th>\n",
       "      <th>N</th>\n",
       "      <th>P</th>\n",
       "      <th>K</th>\n",
       "      <th>temperature</th>\n",
       "      <th>humidity</th>\n",
       "      <th>ph</th>\n",
       "      <th>rainfall</th>\n",
       "      <th>label</th>\n",
       "    </tr>\n",
       "  </thead>\n",
       "  <tbody>\n",
       "    <tr>\n",
       "      <th>2195</th>\n",
       "      <td>107</td>\n",
       "      <td>34</td>\n",
       "      <td>32</td>\n",
       "      <td>26.774637</td>\n",
       "      <td>66.413269</td>\n",
       "      <td>6.780064</td>\n",
       "      <td>177.774507</td>\n",
       "      <td>coffee</td>\n",
       "    </tr>\n",
       "    <tr>\n",
       "      <th>2196</th>\n",
       "      <td>99</td>\n",
       "      <td>15</td>\n",
       "      <td>27</td>\n",
       "      <td>27.417112</td>\n",
       "      <td>56.636362</td>\n",
       "      <td>6.086922</td>\n",
       "      <td>127.924610</td>\n",
       "      <td>coffee</td>\n",
       "    </tr>\n",
       "    <tr>\n",
       "      <th>2197</th>\n",
       "      <td>118</td>\n",
       "      <td>33</td>\n",
       "      <td>30</td>\n",
       "      <td>24.131797</td>\n",
       "      <td>67.225123</td>\n",
       "      <td>6.362608</td>\n",
       "      <td>173.322839</td>\n",
       "      <td>coffee</td>\n",
       "    </tr>\n",
       "    <tr>\n",
       "      <th>2198</th>\n",
       "      <td>117</td>\n",
       "      <td>32</td>\n",
       "      <td>34</td>\n",
       "      <td>26.272418</td>\n",
       "      <td>52.127394</td>\n",
       "      <td>6.758793</td>\n",
       "      <td>127.175293</td>\n",
       "      <td>coffee</td>\n",
       "    </tr>\n",
       "    <tr>\n",
       "      <th>2199</th>\n",
       "      <td>104</td>\n",
       "      <td>18</td>\n",
       "      <td>30</td>\n",
       "      <td>23.603016</td>\n",
       "      <td>60.396475</td>\n",
       "      <td>6.779833</td>\n",
       "      <td>140.937041</td>\n",
       "      <td>coffee</td>\n",
       "    </tr>\n",
       "  </tbody>\n",
       "</table>\n",
       "</div>"
      ],
      "text/plain": [
       "        N   P   K  temperature   humidity        ph    rainfall   label\n",
       "2195  107  34  32    26.774637  66.413269  6.780064  177.774507  coffee\n",
       "2196   99  15  27    27.417112  56.636362  6.086922  127.924610  coffee\n",
       "2197  118  33  30    24.131797  67.225123  6.362608  173.322839  coffee\n",
       "2198  117  32  34    26.272418  52.127394  6.758793  127.175293  coffee\n",
       "2199  104  18  30    23.603016  60.396475  6.779833  140.937041  coffee"
      ]
     },
     "execution_count": 9,
     "metadata": {},
     "output_type": "execute_result"
    }
   ],
   "source": [
    "df.tail()"
   ]
  },
  {
   "cell_type": "code",
   "execution_count": 10,
   "id": "20026708",
   "metadata": {},
   "outputs": [
    {
     "data": {
      "text/plain": [
       "N              0\n",
       "P              0\n",
       "K              0\n",
       "temperature    0\n",
       "humidity       0\n",
       "ph             0\n",
       "rainfall       0\n",
       "label          0\n",
       "dtype: int64"
      ]
     },
     "execution_count": 10,
     "metadata": {},
     "output_type": "execute_result"
    }
   ],
   "source": [
    "#lets check if there is any missing value present in the dataset\n",
    "\n",
    "df.isnull().sum()"
   ]
  },
  {
   "cell_type": "code",
   "execution_count": 11,
   "id": "1406b52f",
   "metadata": {},
   "outputs": [
    {
     "data": {
      "text/plain": [
       "N    P    K  \n",
       "108  89   53     2\n",
       "31   58   15     2\n",
       "9    77   17     2\n",
       "99   15   27     2\n",
       "72   41   36     2\n",
       "                ..\n",
       "27   8    30     1\n",
       "26   135  203    1\n",
       "     126  195    1\n",
       "     122  202    1\n",
       "140  45   15     1\n",
       "Length: 2184, dtype: int64"
      ]
     },
     "execution_count": 11,
     "metadata": {},
     "output_type": "execute_result"
    }
   ],
   "source": [
    "df[['N', 'P', 'K']].value_counts()"
   ]
  },
  {
   "cell_type": "code",
   "execution_count": 12,
   "id": "c106a072",
   "metadata": {},
   "outputs": [
    {
     "data": {
      "text/plain": [
       "P \n",
       "60    56\n",
       "58    48\n",
       "56    46\n",
       "55    44\n",
       "57    42\n",
       "      ..\n",
       "83     2\n",
       "82     2\n",
       "90     2\n",
       "84     1\n",
       "93     1\n",
       "Length: 117, dtype: int64"
      ]
     },
     "execution_count": 12,
     "metadata": {},
     "output_type": "execute_result"
    }
   ],
   "source": [
    "df[['P']].value_counts()"
   ]
  },
  {
   "cell_type": "code",
   "execution_count": 13,
   "id": "81208436",
   "metadata": {},
   "outputs": [
    {
     "data": {
      "text/plain": [
       "N  \n",
       "40     44\n",
       "22     44\n",
       "27     42\n",
       "39     41\n",
       "31     41\n",
       "       ..\n",
       "136     2\n",
       "46      1\n",
       "130     1\n",
       "135     1\n",
       "139     1\n",
       "Length: 137, dtype: int64"
      ]
     },
     "execution_count": 13,
     "metadata": {},
     "output_type": "execute_result"
    }
   ],
   "source": [
    "df[['N']].value_counts()"
   ]
  },
  {
   "cell_type": "code",
   "execution_count": 14,
   "id": "6a88ecd4",
   "metadata": {},
   "outputs": [
    {
     "data": {
      "text/plain": [
       "K \n",
       "17    90\n",
       "22    87\n",
       "15    86\n",
       "20    80\n",
       "25    78\n",
       "      ..\n",
       "75     8\n",
       "5      8\n",
       "13     7\n",
       "7      5\n",
       "80     4\n",
       "Length: 73, dtype: int64"
      ]
     },
     "execution_count": 14,
     "metadata": {},
     "output_type": "execute_result"
    }
   ],
   "source": [
    "df[['K']].value_counts()"
   ]
  },
  {
   "cell_type": "code",
   "execution_count": 15,
   "id": "67e7860c",
   "metadata": {},
   "outputs": [
    {
     "data": {
      "text/plain": [
       "temperature\n",
       "8.825675       1\n",
       "27.560886      1\n",
       "27.542732      1\n",
       "27.543848      1\n",
       "27.548230      1\n",
       "              ..\n",
       "23.779890      1\n",
       "23.768816      1\n",
       "23.765547      1\n",
       "23.761218      1\n",
       "43.675493      1\n",
       "Length: 2200, dtype: int64"
      ]
     },
     "execution_count": 15,
     "metadata": {},
     "output_type": "execute_result"
    }
   ],
   "source": [
    "df[['temperature']].value_counts()"
   ]
  },
  {
   "cell_type": "code",
   "execution_count": 16,
   "id": "acc79e10",
   "metadata": {},
   "outputs": [
    {
     "data": {
      "text/plain": [
       "humidity \n",
       "14.258040    1\n",
       "84.978492    1\n",
       "84.884573    1\n",
       "84.943760    1\n",
       "84.960894    1\n",
       "            ..\n",
       "65.216625    1\n",
       "65.148775    1\n",
       "65.103435    1\n",
       "65.066017    1\n",
       "99.981876    1\n",
       "Length: 2200, dtype: int64"
      ]
     },
     "execution_count": 16,
     "metadata": {},
     "output_type": "execute_result"
    }
   ],
   "source": [
    "df[['humidity']].value_counts()"
   ]
  },
  {
   "cell_type": "code",
   "execution_count": 17,
   "id": "a3b04b75",
   "metadata": {},
   "outputs": [
    {
     "data": {
      "text/plain": [
       "ph      \n",
       "3.504752    1\n",
       "6.740948    1\n",
       "6.738016    1\n",
       "6.738031    1\n",
       "6.738652    1\n",
       "           ..\n",
       "6.130160    1\n",
       "6.130136    1\n",
       "6.129813    1\n",
       "6.129534    1\n",
       "9.935091    1\n",
       "Length: 2200, dtype: int64"
      ]
     },
     "execution_count": 17,
     "metadata": {},
     "output_type": "execute_result"
    }
   ],
   "source": [
    "df[['ph']].value_counts()"
   ]
  },
  {
   "cell_type": "code",
   "execution_count": 18,
   "id": "a311b4dc",
   "metadata": {},
   "outputs": [
    {
     "data": {
      "text/plain": [
       "rainfall  \n",
       "20.211267     1\n",
       "111.019674    1\n",
       "110.695618    1\n",
       "110.712841    1\n",
       "110.963389    1\n",
       "             ..\n",
       "70.956660     1\n",
       "70.887872     1\n",
       "70.871506     1\n",
       "70.863408     1\n",
       "298.560117    1\n",
       "Length: 2200, dtype: int64"
      ]
     },
     "execution_count": 18,
     "metadata": {},
     "output_type": "execute_result"
    }
   ],
   "source": [
    "df[['rainfall']].value_counts()"
   ]
  },
  {
   "cell_type": "code",
   "execution_count": 19,
   "id": "ed498b45",
   "metadata": {},
   "outputs": [
    {
     "data": {
      "text/plain": [
       "N    P    K    temperature  humidity   ph        rainfall    label      \n",
       "0    5    36   24.351938    90.886124  6.152907  105.529185  pomegranate    1\n",
       "69   60   54   36.322681    93.061344  6.989927  141.173693  papaya         1\n",
       "     37   42   23.058049    83.370118  7.073454  251.055000  rice           1\n",
       "     46   41   23.641248    80.285979  5.012140  263.110330  rice           1\n",
       "     47   40   25.371227    76.240367  6.130136  183.827079  jute           1\n",
       "                                                                           ..\n",
       "26   126  195  21.413638    92.991245  5.878569  118.397907  apple          1\n",
       "     122  202  22.445170    94.737635  5.617227  107.184327  apple          1\n",
       "     121  201  22.191094    90.025751  6.162034  112.312663  apple          1\n",
       "     80   83   17.084985    16.145658  7.528600  71.310073   chickpea       1\n",
       "140  45   15   25.530827    80.046628  5.801048  99.395572   cotton         1\n",
       "Length: 2200, dtype: int64"
      ]
     },
     "execution_count": 19,
     "metadata": {},
     "output_type": "execute_result"
    }
   ],
   "source": [
    "df[['N', 'P', 'K', 'temperature', 'humidity', 'ph', 'rainfall', 'label']].value_counts()"
   ]
  },
  {
   "cell_type": "code",
   "execution_count": 20,
   "id": "24503aa7",
   "metadata": {
    "scrolled": true
   },
   "outputs": [
    {
     "name": "stdout",
     "output_type": "stream",
     "text": [
      "Here all attributes belong to there mean value \n",
      "\n",
      "Avearage ratio of Nitrogen in the soil:  50.551818181818184\n",
      "Avearage ratio of Phosphoros in the soil:  53.36272727272727\n",
      "Avearage ratio of Potesium  in the soil:  48.14909090909091\n",
      "Avearage ratio of temperautre in the soil:  25.616243851779544\n",
      "Avearage ratio of humidity in the soil:  71.48177921778637\n",
      "Avearage ratio of ph in the soil:  6.469480065256364\n",
      "Avearage ratio of rainfall in the soil:  103.46365541576817\n"
     ]
    },
    {
     "data": {
      "text/plain": [
       "<Figure size 640x480 with 0 Axes>"
      ]
     },
     "metadata": {},
     "output_type": "display_data"
    }
   ],
   "source": [
    "#lets check the summary for all the crops\n",
    "\n",
    "\n",
    "plt.suptitle(\"All statistics value will be printed \")\n",
    "\n",
    "print(\"Here all attributes belong to there mean value \\n\",)\n",
    "\n",
    "\n",
    "\n",
    "print(\"Avearage ratio of Nitrogen in the soil: \",df['N'].mean())\n",
    "print(\"Avearage ratio of Phosphoros in the soil: \",df['P'].mean())\n",
    "print(\"Avearage ratio of Potesium  in the soil: \",df['K'].mean())\n",
    "print(\"Avearage ratio of temperautre in the soil: \",df['temperature'].mean())\n",
    "print(\"Avearage ratio of humidity in the soil: \",df['humidity'].mean())\n",
    "print(\"Avearage ratio of ph in the soil: \",df['ph'].mean())\n",
    "print(\"Avearage ratio of rainfall in the soil: \",df['rainfall'].mean())\n",
    "\n",
    "\n",
    "\n"
   ]
  },
  {
   "cell_type": "code",
   "execution_count": 21,
   "id": "9d7c2338",
   "metadata": {},
   "outputs": [],
   "source": [
    "from ipywidgets import interact"
   ]
  },
  {
   "cell_type": "code",
   "execution_count": 22,
   "id": "77953d6f",
   "metadata": {
    "scrolled": false
   },
   "outputs": [
    {
     "data": {
      "application/vnd.jupyter.widget-view+json": {
       "model_id": "18084f0b2993456eba194d8740058f76",
       "version_major": 2,
       "version_minor": 0
      },
      "text/plain": [
       "interactive(children=(Dropdown(description='crops', options=('rice', 'maize', 'jute', 'cotton', 'coconut', 'pa…"
      ]
     },
     "metadata": {},
     "output_type": "display_data"
    }
   ],
   "source": [
    "# let checks the summary statistics for the each crops\n",
    "@interact\n",
    "def summary(crops=list(df['label'].value_counts().index)):\n",
    "    x=df[df['label']==crops]\n",
    "    print(\"Stastistics for nitrogen:\\n\")\n",
    "    print(\"mean value of nitrogen in the soil: \",x['N'].mean())\n",
    "    print(\"min value of nitrogen in the soil: \",x['N'].min())\n",
    "    print(\"max value of nitrogen in the soil: \",x['N'].max())\n",
    "    print(\"median value of nitrogen in the soil: \",x['N'].median())\n",
    "    print(\"standard value of nitrogen in the soil: \",x['N'].std())\n",
    "    print(\"varriance value of nitrogen in the soil: \",x['N'].var())\n",
    "    print(\"Total value of nitrogen in the soil: \\n \",x['N'].sum())\n",
    "    \n",
    "    print(\"Stastistics for Phosphoros:\\n\")\n",
    "    print(\"mean value of phosphoros in the soil: \",x['P'].mean())\n",
    "    print(\"min value of phosphoros in the soil: \",x['P'].min())\n",
    "    print(\"max value of phosphoros in the soil: \",x['P'].max())\n",
    "    print(\"median value of phosphoros in the soil: \",x['P'].median())\n",
    "    print(\"standard value of phosphoros in the soil: \",x['P'].std())\n",
    "    print(\"varriance value of phosphoros in the soil: \",x['P'].var())\n",
    "    print(\"Total value of phosphoros in the soil: \\n \",x['P'].sum())\n",
    "    \n",
    "    print(\"Stastistics for Phosphoros:\\n\")\n",
    "    print(\"mean value of Kpotesium in the soil: \",x['K'].mean())\n",
    "    print(\"min value of Kpotesium in the soil: \",x['K'].min())\n",
    "    print(\"max value of Kpotesium in the soil: \",x['K'].max())\n",
    "    print(\"median value of Kpotesium in the soil: \",x['K'].median())\n",
    "    print(\"standard value of Kpotesium in the soil: \",x['K'].std())\n",
    "    print(\"varriance value of Kpotesium in the soil: \",x['K'].var())\n",
    "    print(\"Total value of Kpotesiumin the soil: \\n \",x['K'].sum())\n",
    "    \n",
    "    print(\"all stastistics for tempreture is required: \\n\")\n",
    "    print(\"mean tempreture require for soil:  \", x['temperature'].mean())\n",
    "    print(\"min tempreture require for soil:  \", x['temperature'].min())\n",
    "    print(\"median tempreture require for soil:  \", x['temperature'].median())\n",
    "    print(\"standard deviation tempreture require for soil:  \", x['temperature'].std())\n",
    "    print(\"varrience tempreture require for soil: \\n\", x['temperature'].var())\n",
    "    \n",
    "    print(\"all stastistics for ph is required: \\n\")\n",
    "    print(\"mean ph require for soil:  \", x['ph'].mean())\n",
    "    print(\"min ph require for soil:  \", x['ph']. min())\n",
    "    print(\"median ph require for soil:  \",x['ph'].median())\n",
    "    print(\"standard deviation ph require for soil:  \", x['ph'].std())\n",
    "    print(\"varrience ph require for soil: \\n\", x['ph'].var())\n",
    "    \n",
    "    print(\"all stastistics for rainfall is required: \\n\")\n",
    "    print(\"mean rainfall require for soil:  \", x['rainfall'].mean())\n",
    "    print(\"min rainfall require for soil:  \",x['rainfall'].min())\n",
    "    print(\"median rainfall require for soil:  \", x['rainfall'].median())\n",
    "    print(\"standard deviation rainfall require for soil:  \", x['rainfall'].std())\n",
    "    print(\"varrience rainfall require for soil: \\n\", x['rainfall'].var())"
   ]
  },
  {
   "cell_type": "code",
   "execution_count": 23,
   "id": "c50eba09",
   "metadata": {},
   "outputs": [
    {
     "data": {
      "text/plain": [
       "Index(['N', 'P', 'K', 'temperature', 'humidity', 'ph', 'rainfall', 'label'], dtype='object')"
      ]
     },
     "execution_count": 23,
     "metadata": {},
     "output_type": "execute_result"
    }
   ],
   "source": [
    "df.columns"
   ]
  },
  {
   "cell_type": "code",
   "execution_count": 24,
   "id": "159952b5",
   "metadata": {
    "scrolled": true
   },
   "outputs": [
    {
     "data": {
      "application/vnd.jupyter.widget-view+json": {
       "model_id": "dc61b9cf38294265b70ad6fb58603309",
       "version_major": 2,
       "version_minor": 0
      },
      "text/plain": [
       "interactive(children=(Dropdown(description='cond', options=('N', 'P', 'K', 'temperature', 'humidity', 'ph', 'r…"
      ]
     },
     "metadata": {},
     "output_type": "display_data"
    }
   ],
   "source": [
    "# let makes the function more intuitive\n",
    "@interact\n",
    "def compare(cond=['N', 'P', 'K', 'temperature', 'humidity', 'ph', 'rainfall', 'label']):\n",
    "    print(\"Crops which require greater than average:\",cond,'\\n')\n",
    "    \n",
    "    print(df[df[cond]>df[cond].max()]['label'].unique())\n",
    "    print(df[df[cond]>df[cond].mean()]['label'].unique())\n",
    "    print(df[df[cond]<=df[cond].mean()]['label'].unique())\n",
    "    print(df[df[cond]>df[cond].min()]['label'].unique())\n",
    "    print(df[df[cond]<=df[cond].min()]['label'].unique())\n"
   ]
  },
  {
   "cell_type": "code",
   "execution_count": 25,
   "id": "572ed6a1",
   "metadata": {},
   "outputs": [
    {
     "name": "stdout",
     "output_type": "stream",
     "text": [
      "Nitrojen ['cotton']\n",
      "Nitrojen ['rice' 'maize' 'chickpea' 'kidneybeans' 'pigeonpeas' 'mothbeans'\n",
      " 'mungbean' 'blackgram' 'lentil' 'pomegranate' 'banana' 'mango' 'grapes'\n",
      " 'watermelon' 'muskmelon' 'apple' 'orange' 'papaya' 'coconut' 'cotton'\n",
      " 'jute' 'coffee']\n",
      "Phosphoros ['grapes' 'apple']\n",
      "Phosphoros ['rice' 'maize' 'chickpea' 'kidneybeans' 'pigeonpeas' 'mothbeans'\n",
      " 'mungbean' 'blackgram' 'lentil' 'pomegranate' 'banana' 'mango'\n",
      " 'watermelon' 'muskmelon' 'orange' 'papaya' 'coconut' 'cotton' 'jute'\n",
      " 'coffee']\n",
      "Kpotesium ['rice' 'maize' 'chickpea' 'kidneybeans' 'pigeonpeas' 'mothbeans'\n",
      " 'mungbean' 'blackgram' 'lentil' 'pomegranate' 'banana' 'mango'\n",
      " 'watermelon' 'muskmelon' 'orange' 'papaya' 'coconut' 'cotton' 'jute'\n",
      " 'coffee']\n",
      "Kpotesium ['grapes' 'apple']\n",
      "Temperature ['pigeonpeas' 'mothbeans' 'blackgram' 'mango' 'grapes' 'orange' 'papaya']\n",
      "Temperature ['rice' 'maize' 'chickpea' 'kidneybeans' 'pigeonpeas' 'mothbeans'\n",
      " 'mungbean' 'blackgram' 'lentil' 'pomegranate' 'banana' 'mango' 'grapes'\n",
      " 'watermelon' 'muskmelon' 'apple' 'orange' 'papaya' 'coconut' 'cotton'\n",
      " 'jute' 'coffee']\n",
      "ph ['rice' 'maize' 'chickpea' 'kidneybeans' 'pigeonpeas' 'mothbeans'\n",
      " 'mungbean' 'blackgram' 'lentil' 'pomegranate' 'banana' 'mango' 'grapes'\n",
      " 'watermelon' 'muskmelon' 'apple' 'orange' 'papaya' 'coconut' 'cotton'\n",
      " 'jute' 'coffee']\n",
      "ph ['pigeonpeas' 'mothbeans' 'mango']\n",
      "rainfall ['rice' 'kidneybeans' 'pigeonpeas' 'apple' 'papaya' 'coconut' 'jute'\n",
      " 'coffee']\n",
      "rainfall ['rice' 'kidneybeans' 'pigeonpeas' 'apple' 'papaya' 'coconut' 'jute'\n",
      " 'coffee']\n"
     ]
    }
   ],
   "source": [
    "# Some imteresting patterns\n",
    "\n",
    "print(\"Nitrojen\",df[df['N']>120]['label'].unique())\n",
    "print(\"Nitrojen\",df[df['N']<120]['label'].unique())\n",
    "print(\"Phosphoros\",df[df['P']>120]['label'].unique())\n",
    "print(\"Phosphoros\",df[df['P']<120]['label'].unique())\n",
    "print(\"Kpotesium\",df[df['K']<100]['label'].unique())\n",
    "print(\"Kpotesium\",df[df['K']>100]['label'].unique())\n",
    "print(\"Temperature\",df[df['temperature']>30]['label'].unique())\n",
    "print(\"Temperature\",df[df['temperature']<30]['label'].unique())\n",
    "print(\"ph\",df[df['ph']>5]['label'].unique())\n",
    "print(\"ph\",df[df['ph']<5]['label'].unique())\n",
    "print(\"rainfall\",df[df['rainfall']>120]['label'].unique())\n",
    "print(\"rainfall\",df[df['rainfall']>120]['label'].unique())\n"
   ]
  },
  {
   "cell_type": "code",
   "execution_count": 26,
   "id": "6e9ba996",
   "metadata": {},
   "outputs": [
    {
     "name": "stderr",
     "output_type": "stream",
     "text": [
      "C:\\Users\\Amit\\AppData\\Local\\Temp\\ipykernel_13296\\362125020.py:2: UserWarning: \n",
      "\n",
      "`distplot` is a deprecated function and will be removed in seaborn v0.14.0.\n",
      "\n",
      "Please adapt your code to use either `displot` (a figure-level function with\n",
      "similar flexibility) or `histplot` (an axes-level function for histograms).\n",
      "\n",
      "For a guide to updating your code to use the new functions, please see\n",
      "https://gist.github.com/mwaskom/de44147ed2974457ad6372750bbe5751\n",
      "\n",
      "  sns.distplot(df['N'],color='darkblue')\n",
      "C:\\Users\\Amit\\AppData\\Local\\Temp\\ipykernel_13296\\362125020.py:8: UserWarning: \n",
      "\n",
      "`distplot` is a deprecated function and will be removed in seaborn v0.14.0.\n",
      "\n",
      "Please adapt your code to use either `displot` (a figure-level function with\n",
      "similar flexibility) or `histplot` (an axes-level function for histograms).\n",
      "\n",
      "For a guide to updating your code to use the new functions, please see\n",
      "https://gist.github.com/mwaskom/de44147ed2974457ad6372750bbe5751\n",
      "\n",
      "  sns.distplot(df['P'],color='darkblue')\n",
      "C:\\Users\\Amit\\AppData\\Local\\Temp\\ipykernel_13296\\362125020.py:13: UserWarning: \n",
      "\n",
      "`distplot` is a deprecated function and will be removed in seaborn v0.14.0.\n",
      "\n",
      "Please adapt your code to use either `displot` (a figure-level function with\n",
      "similar flexibility) or `histplot` (an axes-level function for histograms).\n",
      "\n",
      "For a guide to updating your code to use the new functions, please see\n",
      "https://gist.github.com/mwaskom/de44147ed2974457ad6372750bbe5751\n",
      "\n",
      "  sns.distplot(df['N'],color='darkgreen')\n",
      "C:\\Users\\Amit\\AppData\\Local\\Temp\\ipykernel_13296\\362125020.py:18: UserWarning: \n",
      "\n",
      "`distplot` is a deprecated function and will be removed in seaborn v0.14.0.\n",
      "\n",
      "Please adapt your code to use either `displot` (a figure-level function with\n",
      "similar flexibility) or `histplot` (an axes-level function for histograms).\n",
      "\n",
      "For a guide to updating your code to use the new functions, please see\n",
      "https://gist.github.com/mwaskom/de44147ed2974457ad6372750bbe5751\n",
      "\n",
      "  sns.distplot(df['temperature'],color='darkred')\n",
      "C:\\Users\\Amit\\AppData\\Local\\Temp\\ipykernel_13296\\362125020.py:23: UserWarning: \n",
      "\n",
      "`distplot` is a deprecated function and will be removed in seaborn v0.14.0.\n",
      "\n",
      "Please adapt your code to use either `displot` (a figure-level function with\n",
      "similar flexibility) or `histplot` (an axes-level function for histograms).\n",
      "\n",
      "For a guide to updating your code to use the new functions, please see\n",
      "https://gist.github.com/mwaskom/de44147ed2974457ad6372750bbe5751\n",
      "\n",
      "  sns.distplot(df['ph'],color='darkblue')\n",
      "C:\\Users\\Amit\\AppData\\Local\\Temp\\ipykernel_13296\\362125020.py:28: UserWarning: \n",
      "\n",
      "`distplot` is a deprecated function and will be removed in seaborn v0.14.0.\n",
      "\n",
      "Please adapt your code to use either `displot` (a figure-level function with\n",
      "similar flexibility) or `histplot` (an axes-level function for histograms).\n",
      "\n",
      "For a guide to updating your code to use the new functions, please see\n",
      "https://gist.github.com/mwaskom/de44147ed2974457ad6372750bbe5751\n",
      "\n",
      "  sns.distplot(df['ph'],color='darkgreen')\n",
      "C:\\Users\\Amit\\AppData\\Local\\Temp\\ipykernel_13296\\362125020.py:34: UserWarning: \n",
      "\n",
      "`distplot` is a deprecated function and will be removed in seaborn v0.14.0.\n",
      "\n",
      "Please adapt your code to use either `displot` (a figure-level function with\n",
      "similar flexibility) or `histplot` (an axes-level function for histograms).\n",
      "\n",
      "For a guide to updating your code to use the new functions, please see\n",
      "https://gist.github.com/mwaskom/de44147ed2974457ad6372750bbe5751\n",
      "\n",
      "  sns.distplot(df['rainfall'],color='darkred')\n"
     ]
    },
    {
     "data": {
      "image/png": "[encoded data removed]",
      "text/plain": [
       "<Figure size 640x480 with 7 Axes>"
      ]
     },
     "metadata": {},
     "output_type": "display_data"
    }
   ],
   "source": [
    "plt.subplot(2,4,1)\n",
    "sns.distplot(df['N'],color='darkblue')\n",
    "plt.xlabel(\"Nitrojen\",fontsize=12)\n",
    "plt.grid()\n",
    "# plt.suptitle('Distribution for agricultural condition')\n",
    "\n",
    "plt.subplot(2,4,2)\n",
    "sns.distplot(df['P'],color='darkblue')\n",
    "plt.xlabel(\"Phosphoros\",fontsize=12)\n",
    "plt.grid()\n",
    "\n",
    "plt.subplot(2,4,3)\n",
    "sns.distplot(df['N'],color='darkgreen')\n",
    "plt.xlabel(\"Kpotesium\",fontsize=12)\n",
    "plt.grid()\n",
    "\n",
    "plt.subplot(2,4,4)\n",
    "sns.distplot(df['temperature'],color='darkred')\n",
    "plt.xlabel(\"temperature\",fontsize=12)\n",
    "plt.grid()\n",
    "\n",
    "plt.subplot(2,4,5)\n",
    "sns.distplot(df['ph'],color='darkblue')\n",
    "plt.xlabel(\"ph of soil\",fontsize=12)\n",
    "plt.grid()\n",
    "\n",
    "plt.subplot(2,4,6)\n",
    "sns.distplot(df['ph'],color='darkgreen')\n",
    "plt.xlabel(\"ph of soil\",fontsize=12)\n",
    "plt.grid()\n",
    "\n",
    "\n",
    "plt.subplot(2,4,7)\n",
    "sns.distplot(df['rainfall'],color='darkred')\n",
    "plt.xlabel(\"rainfall of soil\",fontsize=12)\n",
    "plt.grid()\n",
    "plt.suptitle(\"Distribution for agricultural condition\",fontsize=20)\n",
    "plt.show()\n"
   ]
  },
  {
   "cell_type": "code",
   "execution_count": 27,
   "id": "83ac07d1",
   "metadata": {},
   "outputs": [
    {
     "name": "stdout",
     "output_type": "stream",
     "text": [
      "Super_crops\n"
     ]
    }
   ],
   "source": [
    "# lets understand which crops can only be Grown in summer season , winter session and rainy session\n",
    "print(\"Super_crops\")"
   ]
  },
  {
   "cell_type": "code",
   "execution_count": 28,
   "id": "341e2fff",
   "metadata": {},
   "outputs": [],
   "source": [
    "from sklearn.cluster import KMeans"
   ]
  },
  {
   "cell_type": "code",
   "execution_count": 29,
   "id": "bb6fb2cc",
   "metadata": {},
   "outputs": [],
   "source": [
    "x=df.drop(['label'],axis=1)"
   ]
  },
  {
   "cell_type": "code",
   "execution_count": 30,
   "id": "131f0894",
   "metadata": {},
   "outputs": [],
   "source": [
    "# Selective all the values of the data\n",
    "X=x.values"
   ]
  },
  {
   "cell_type": "code",
   "execution_count": 31,
   "id": "cdc5c186",
   "metadata": {
    "scrolled": true
   },
   "outputs": [
    {
     "data": {
      "text/plain": [
       "(2200, 7)"
      ]
     },
     "execution_count": 31,
     "metadata": {},
     "output_type": "execute_result"
    }
   ],
   "source": [
    "X.shape"
   ]
  },
  {
   "cell_type": "code",
   "execution_count": 32,
   "id": "f500d43e",
   "metadata": {},
   "outputs": [
    {
     "data": {
      "text/html": [
       "<div>\n",
       "<style scoped>\n",
       "    .dataframe tbody tr th:only-of-type {\n",
       "        vertical-align: middle;\n",
       "    }\n",
       "\n",
       "    .dataframe tbody tr th {\n",
       "        vertical-align: top;\n",
       "    }\n",
       "\n",
       "    .dataframe thead th {\n",
       "        text-align: right;\n",
       "    }\n",
       "</style>\n",
       "<table border=\"1\" class=\"dataframe\">\n",
       "  <thead>\n",
       "    <tr style=\"text-align: right;\">\n",
       "      <th></th>\n",
       "      <th>N</th>\n",
       "      <th>P</th>\n",
       "      <th>K</th>\n",
       "      <th>temperature</th>\n",
       "      <th>humidity</th>\n",
       "      <th>ph</th>\n",
       "      <th>rainfall</th>\n",
       "    </tr>\n",
       "  </thead>\n",
       "  <tbody>\n",
       "    <tr>\n",
       "      <th>0</th>\n",
       "      <td>90</td>\n",
       "      <td>42</td>\n",
       "      <td>43</td>\n",
       "      <td>20.879744</td>\n",
       "      <td>82.002744</td>\n",
       "      <td>6.502985</td>\n",
       "      <td>202.935536</td>\n",
       "    </tr>\n",
       "    <tr>\n",
       "      <th>1</th>\n",
       "      <td>85</td>\n",
       "      <td>58</td>\n",
       "      <td>41</td>\n",
       "      <td>21.770462</td>\n",
       "      <td>80.319644</td>\n",
       "      <td>7.038096</td>\n",
       "      <td>226.655537</td>\n",
       "    </tr>\n",
       "    <tr>\n",
       "      <th>2</th>\n",
       "      <td>60</td>\n",
       "      <td>55</td>\n",
       "      <td>44</td>\n",
       "      <td>23.004459</td>\n",
       "      <td>82.320763</td>\n",
       "      <td>7.840207</td>\n",
       "      <td>263.964248</td>\n",
       "    </tr>\n",
       "    <tr>\n",
       "      <th>3</th>\n",
       "      <td>74</td>\n",
       "      <td>35</td>\n",
       "      <td>40</td>\n",
       "      <td>26.491096</td>\n",
       "      <td>80.158363</td>\n",
       "      <td>6.980401</td>\n",
       "      <td>242.864034</td>\n",
       "    </tr>\n",
       "    <tr>\n",
       "      <th>4</th>\n",
       "      <td>78</td>\n",
       "      <td>42</td>\n",
       "      <td>42</td>\n",
       "      <td>20.130175</td>\n",
       "      <td>81.604873</td>\n",
       "      <td>7.628473</td>\n",
       "      <td>262.717340</td>\n",
       "    </tr>\n",
       "    <tr>\n",
       "      <th>...</th>\n",
       "      <td>...</td>\n",
       "      <td>...</td>\n",
       "      <td>...</td>\n",
       "      <td>...</td>\n",
       "      <td>...</td>\n",
       "      <td>...</td>\n",
       "      <td>...</td>\n",
       "    </tr>\n",
       "    <tr>\n",
       "      <th>2195</th>\n",
       "      <td>107</td>\n",
       "      <td>34</td>\n",
       "      <td>32</td>\n",
       "      <td>26.774637</td>\n",
       "      <td>66.413269</td>\n",
       "      <td>6.780064</td>\n",
       "      <td>177.774507</td>\n",
       "    </tr>\n",
       "    <tr>\n",
       "      <th>2196</th>\n",
       "      <td>99</td>\n",
       "      <td>15</td>\n",
       "      <td>27</td>\n",
       "      <td>27.417112</td>\n",
       "      <td>56.636362</td>\n",
       "      <td>6.086922</td>\n",
       "      <td>127.924610</td>\n",
       "    </tr>\n",
       "    <tr>\n",
       "      <th>2197</th>\n",
       "      <td>118</td>\n",
       "      <td>33</td>\n",
       "      <td>30</td>\n",
       "      <td>24.131797</td>\n",
       "      <td>67.225123</td>\n",
       "      <td>6.362608</td>\n",
       "      <td>173.322839</td>\n",
       "    </tr>\n",
       "    <tr>\n",
       "      <th>2198</th>\n",
       "      <td>117</td>\n",
       "      <td>32</td>\n",
       "      <td>34</td>\n",
       "      <td>26.272418</td>\n",
       "      <td>52.127394</td>\n",
       "      <td>6.758793</td>\n",
       "      <td>127.175293</td>\n",
       "    </tr>\n",
       "    <tr>\n",
       "      <th>2199</th>\n",
       "      <td>104</td>\n",
       "      <td>18</td>\n",
       "      <td>30</td>\n",
       "      <td>23.603016</td>\n",
       "      <td>60.396475</td>\n",
       "      <td>6.779833</td>\n",
       "      <td>140.937041</td>\n",
       "    </tr>\n",
       "  </tbody>\n",
       "</table>\n",
       "<p>2200 rows × 7 columns</p>\n",
       "</div>"
      ],
      "text/plain": [
       "        N   P   K  temperature   humidity        ph    rainfall\n",
       "0      90  42  43    20.879744  82.002744  6.502985  202.935536\n",
       "1      85  58  41    21.770462  80.319644  7.038096  226.655537\n",
       "2      60  55  44    23.004459  82.320763  7.840207  263.964248\n",
       "3      74  35  40    26.491096  80.158363  6.980401  242.864034\n",
       "4      78  42  42    20.130175  81.604873  7.628473  262.717340\n",
       "...   ...  ..  ..          ...        ...       ...         ...\n",
       "2195  107  34  32    26.774637  66.413269  6.780064  177.774507\n",
       "2196   99  15  27    27.417112  56.636362  6.086922  127.924610\n",
       "2197  118  33  30    24.131797  67.225123  6.362608  173.322839\n",
       "2198  117  32  34    26.272418  52.127394  6.758793  127.175293\n",
       "2199  104  18  30    23.603016  60.396475  6.779833  140.937041\n",
       "\n",
       "[2200 rows x 7 columns]"
      ]
     },
     "execution_count": 32,
     "metadata": {},
     "output_type": "execute_result"
    }
   ],
   "source": [
    "x"
   ]
  },
  {
   "cell_type": "code",
   "execution_count": 33,
   "id": "66c9b801",
   "metadata": {},
   "outputs": [
    {
     "data": {
      "text/plain": [
       "15400"
      ]
     },
     "execution_count": 33,
     "metadata": {},
     "output_type": "execute_result"
    }
   ],
   "source": [
    "X.size"
   ]
  },
  {
   "cell_type": "code",
   "execution_count": 34,
   "id": "7acd33a7",
   "metadata": {},
   "outputs": [
    {
     "data": {
      "image/png": "[encoded data removed]",
      "text/plain": [
       "<Figure size 1000x400 with 1 Axes>"
      ]
     },
     "metadata": {},
     "output_type": "display_data"
    }
   ],
   "source": [
    "# let determine the optimum number of clusters within the datasets\n",
    "plt.rcParams['figure.figsize']=(10,4)\n",
    "wess=[]\n",
    "for i in range(1,11):\n",
    "    km=KMeans(n_clusters=i,init='k-means++',max_iter=300,n_init=10,random_state=0)\n",
    "    km.fit(X)\n",
    "    wess.append(km.inertia_)\n",
    "    \n",
    "# lets plt the results\n",
    "plt.plot(range(1,11),wess)\n",
    "plt.title('The Elbow method',fontsize=20)\n",
    "plt.xlabel(\"No. of clusters\")\n",
    "plt.ylabel('wess')\n",
    "plt.show()"
   ]
  },
  {
   "cell_type": "code",
   "execution_count": 35,
   "id": "efbb47cf",
   "metadata": {},
   "outputs": [],
   "source": [
    "# Lets important the k-means algorithms to perform clustering analysis\n",
    "\n",
    "km = KMeans(n_clusters=4,init='k-means++',max_iter=300,n_init=10,random_state=0)\n",
    "y_means=km.fit_predict(X)\n",
    "a=df['label']\n",
    "y_means=pd.DataFrame(y_means)\n",
    "z=pd.concat([y_means,a],axis=1)\n",
    "z=z.rename(columns = {0: 'cluster'})"
   ]
  },
  {
   "cell_type": "code",
   "execution_count": 36,
   "id": "22ba246d",
   "metadata": {},
   "outputs": [
    {
     "name": "stdout",
     "output_type": "stream",
     "text": [
      "lets check the result after applying the k-means clustering algorithm \n",
      "\n",
      "crops in first clusters: ['maize' 'chickpea' 'kidneybeans' 'pigeonpeas' 'mothbeans' 'mungbean'\n",
      " 'blackgram' 'lentil' 'pomegranate' 'mango' 'orange' 'papaya' 'coconut']\n",
      "crops in second clusters: ['maize' 'banana' 'watermelon' 'muskmelon' 'papaya' 'cotton' 'coffee']\n",
      "crops in 3rd clusters: ['grapes' 'apple']\n",
      "crops in 4th clusters: ['rice' 'pigeonpeas' 'papaya' 'coconut' 'jute' 'coffee']\n"
     ]
    }
   ],
   "source": [
    "# Lets check the cluster of each crops\n",
    "print(\"lets check the result after applying the k-means clustering algorithm \\n\")\n",
    "print('crops in first clusters:',z[z['cluster']==0]['label'].unique())\n",
    "print('crops in second clusters:',z[z['cluster']==1]['label'].unique())\n",
    "print('crops in 3rd clusters:',z[z['cluster']==2]['label'].unique())\n",
    "print('crops in 4th clusters:',z[z['cluster']==3]['label'].unique())\n"
   ]
  },
  {
   "cell_type": "code",
   "execution_count": null,
   "id": "adcec309",
   "metadata": {},
   "outputs": [],
   "source": []
  }
 ],
 "metadata": {
  "kernelspec": {
   "display_name": "Python 3 (ipykernel)",
   "language": "python",
   "name": "python3"
  },
  "language_info": {
   "codemirror_mode": {
    "name": "ipython",
    "version": 3
   },
   "file_extension": ".py",
   "mimetype": "text/x-python",
   "name": "python",
   "nbconvert_exporter": "python",
   "pygments_lexer": "ipython3",
   "version": "3.10.6"
  }
 },
 "nbformat": 4,
 "nbformat_minor": 5
}
